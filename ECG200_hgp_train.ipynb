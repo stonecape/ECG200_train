{
 "cells": [
  {
   "cell_type": "code",
   "execution_count": 12,
   "metadata": {
    "collapsed": true
   },
   "outputs": [],
   "source": [
    "%matplotlib inline\n",
    "%config InlineBackend.figure_format = 'svg'\n",
    "from random import *\n",
    "from matplotlib import pyplot as plt\n",
    "import numpy as np\n",
    "import GPy\n",
    "from datetime import datetime\n",
    "\n",
    "# change here\n",
    "model_class_names = [1]\n",
    "\n",
    "# randomly sample demo_light_num rows to model our function\n",
    "sample_percentage = 1;\n",
    "\n",
    "# sample sample_time_index_num time-indexes/columns from the data (1024 columns totally)\n",
    "sample_time_index_num = 96;\n",
    "\n",
    "length = 96\n",
    "\n",
    "m_train_set_path = \"./ECG200/ECG200_TRAIN\""
   ]
  },
  {
   "cell_type": "code",
   "execution_count": 13,
   "metadata": {},
   "outputs": [
    {
     "name": "stdout",
     "output_type": "stream",
     "text": [
      "We choose the following  96 time indexes from  96  ones\n",
      " [ 0  1  2  3  4  5  6  7  8  9 10 11 12 13 14 15 16 17 18 19 20 21 22 23 24\n",
      " 25 26 27 28 29 30 31 32 33 34 35 36 37 38 39 40 41 42 43 44 45 46 47 48 49\n",
      " 50 51 52 53 54 55 56 57 58 59 60 61 62 63 64 65 66 67 68 69 70 71 72 73 74\n",
      " 75 76 77 78 79 80 81 82 83 84 85 86 87 88 89 90 91 92 93 94 95]\n"
     ]
    }
   ],
   "source": [
    "# sample_time_index_num time indexes from 1024 indexes\n",
    "times_indexes = np.asarray(sorted(sample(list(range(0, length)), sample_time_index_num)))\n",
    "# times_indexes = np.arange(0,1024, 1024/sample_time_index_num, dtype=int);\n",
    "print(\"We choose the following \",sample_time_index_num, \"time indexes from \",length,\" ones\\n\", times_indexes)"
   ]
  },
  {
   "cell_type": "code",
   "execution_count": 14,
   "metadata": {},
   "outputs": [
    {
     "name": "stdout",
     "output_type": "stream",
     "text": [
      "[[ 0.50206   0.54216   0.72238  ...,  0.70501   0.71382   0.43376 ]\n",
      " [ 0.14765   0.80467   0.36777  ...,  0.036857 -1.2651   -0.20802 ]\n",
      " [ 0.31665   0.2432    0.37047  ...,  0.74885   0.81804   0.53935 ]\n",
      " ..., \n",
      " [ 0.19768   0.45542   0.97311  ..., -0.12001   0.042423  0.34329 ]\n",
      " [ 0.1795    1.0384    1.9464   ...,  0.15105   0.19338   0.45171 ]\n",
      " [ 0.073124  0.77605   2.1813   ..., -0.066689 -0.17845  -0.25605 ]]\n"
     ]
    }
   ],
   "source": [
    "# class name {1,2,3}\n",
    "class_names = np.loadtxt(m_train_set_path, delimiter=',', usecols=[0])\n",
    "m_data = np.loadtxt(m_train_set_path, delimiter=',',usecols=range(1,length+1))\n",
    "print(m_data)\n",
    "\n",
    "# normalize magnitude\n",
    "m_data -= m_data.mean(1)[:,np.newaxis]\n",
    "m_data /= m_data.std(1)[:,np.newaxis]\n"
   ]
  },
  {
   "cell_type": "code",
   "execution_count": 15,
   "metadata": {},
   "outputs": [
    {
     "name": "stdout",
     "output_type": "stream",
     "text": [
      "model_class_names= [1]  totally has  69  rows\n",
      "We select the following  6  rows\n",
      " [1, 15, 45, 59, 60, 71]\n"
     ]
    }
   ],
   "source": [
    "indices = [i for i,cn in enumerate(class_names) if cn in model_class_names]\n",
    "print(\"model_class_names=\",model_class_names,\" totally has \", len(indices), \" rows\");\n",
    "\n",
    "demo_num = int(sample_percentage * len(indices))\n",
    "indices = sorted(sample(indices, demo_num))\n",
    "# indices = indices[0:demo_light_num]\n",
    "print(\"We select the following \",len(indices),\" rows\\n\",indices)"
   ]
  },
  {
   "cell_type": "code",
   "execution_count": 16,
   "metadata": {},
   "outputs": [
    {
     "name": "stdout",
     "output_type": "stream",
     "text": [
      "  \u001b[1mhierarchy.           \u001b[0;0m  |  value  |  constraints  |  priors\n",
      "  \u001b[1mclass.variance       \u001b[0;0m  |    1.5  |      +ve      |        \n",
      "  \u001b[1mclass.lengthscale    \u001b[0;0m  |    2.5  |      +ve      |        \n",
      "  \u001b[1mreplicate.variance   \u001b[0;0m  |    0.1  |      +ve      |        \n",
      "  \u001b[1mreplicate.lengthscale\u001b[0;0m  |    2.5  |      +ve      |        \n",
      "(576, 2)\n",
      "(576, 1)\n",
      "Optimization restart 1/5, f = 290.4575977851317\n",
      "Optimization restart 2/5, f = 290.19591160770074\n",
      "Optimization restart 3/5, f = 290.02418200052284\n",
      "Optimization restart 4/5, f = 289.8162065016461\n",
      "Optimization restart 5/5, f = 289.9726872579965\n",
      "Running L-BFGS-B (Scipy implementation) Code:\n",
      "  runtime   i      f              |g|        \n",
      "    00s16  0002   3.356916e+02   2.397723e+04 \n",
      "    01s18  0016   2.898136e+02   2.732459e-02 \n",
      "    02s20  0030   2.898131e+02   5.953781e-03 \n",
      "Runtime:     02s20\n",
      "Optimization status: Converged\n",
      "\n",
      "\n",
      "Name : GP regression\n",
      "Objective : 289.8131467922071\n",
      "Number of Parameters : 5\n",
      "Number of Optimization Parameters : 5\n",
      "Updates : True\n",
      "Parameters:\n",
      "  \u001b[1mGP_regression.                 \u001b[0;0m  |            value  |  constraints  |  priors\n",
      "  \u001b[1mhierarchy.class.variance       \u001b[0;0m  |   0.665108357329  |      +ve      |        \n",
      "  \u001b[1mhierarchy.class.lengthscale    \u001b[0;0m  |    6.25577526148  |      +ve      |        \n",
      "  \u001b[1mhierarchy.replicate.variance   \u001b[0;0m  |   0.233627687071  |      +ve      |        \n",
      "  \u001b[1mhierarchy.replicate.lengthscale\u001b[0;0m  |    2.18529171101  |      +ve      |        \n",
      "  \u001b[1mGaussian_noise.variance        \u001b[0;0m  |  0.0366447746833  |      +ve      |        \n"
     ]
    }
   ],
   "source": [
    "kern_class = GPy.kern.Matern32(input_dim=1, variance=1.5, lengthscale=2.5, active_dims=[0], name='class')\n",
    "kern_replicate = GPy.kern.Matern32(input_dim=1, variance=.1, lengthscale=2.5, active_dims=[0], name='replicate')\n",
    "k_hierarchy = GPy.kern.Hierarchical(kernels=[kern_class, kern_replicate])\n",
    "print(k_hierarchy)\n",
    "\n",
    "time_index_stack = np.tile(times_indexes.reshape(-1,1),(demo_num, 1)) ;\n",
    "\n",
    "replicate_stack = []\n",
    "for r in range(1, demo_num + 1):\n",
    "    replicate_stack.append(np.ones(sample_time_index_num) * r);\n",
    "\n",
    "replicate_stack = np.asarray(replicate_stack).reshape(-1,1);\n",
    "\n",
    "filtered_data = m_data[indices]\n",
    "filtered_data = filtered_data[:,times_indexes]\n",
    "\n",
    "X = np.hstack((time_index_stack, replicate_stack))\n",
    "X = np.vstack(X)\n",
    "Y = np.vstack(filtered_data.reshape(-1,1))\n",
    "\n",
    "print(X.shape)\n",
    "print(Y.shape)\n",
    "\n",
    "X_file_path = \"./ECG200/model_files/X_\" + str(model_class_names) + str(sample_percentage) + \".npy\"\n",
    "Y_file_path = \"./ECG200/model_files/Y_\" + str(model_class_names) + str(sample_percentage) + \".npy\"\n",
    "\n",
    "np.save(X_file_path, X)\n",
    "np.save(Y_file_path, Y)\n",
    "\n",
    "m = GPy.models.GPRegression(X=X, Y=Y, kernel=k_hierarchy)\n",
    "m.optimize_restarts(num_restarts=5);\n",
    "m.optimize('bfgs', messages=1)\n",
    "print(m)\n",
    "\n",
    "save_file_path = \"./ECG200/model_files/model_save\" + str(model_class_names) + str(sample_percentage) + \".npy\"\n",
    "np.save(save_file_path, m.param_array)"
   ]
  },
  {
   "cell_type": "code",
   "execution_count": null,
   "metadata": {
    "collapsed": true
   },
   "outputs": [],
   "source": []
  },
  {
   "cell_type": "code",
   "execution_count": null,
   "metadata": {
    "collapsed": true
   },
   "outputs": [],
   "source": []
  }
 ],
 "metadata": {
  "kernelspec": {
   "display_name": "Python 3",
   "language": "python",
   "name": "python3"
  },
  "language_info": {
   "codemirror_mode": {
    "name": "ipython",
    "version": 3
   },
   "file_extension": ".py",
   "mimetype": "text/x-python",
   "name": "python",
   "nbconvert_exporter": "python",
   "pygments_lexer": "ipython3",
   "version": "3.6.1"
  }
 },
 "nbformat": 4,
 "nbformat_minor": 2
}
